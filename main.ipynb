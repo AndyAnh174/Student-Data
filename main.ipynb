{
 "cells": [
  {
   "cell_type": "code",
   "execution_count": null,
   "id": "6ec3b3e0-9618-41c5-8e6d-90c02f51c6f5",
   "metadata": {},
   "outputs": [],
   "source": [
    "#ADD DATA (Viet ANh)"
   ]
  },
  {
   "cell_type": "code",
   "execution_count": null,
   "id": "32d879a1-1fb2-45e5-8337-24de7eb45977",
   "metadata": {},
   "outputs": [],
   "source": [
    "import kaggle\n",
    "import os\n",
    "import shutil\n",
    "dataset_name = \"phuc16102001/vietnam-highschool-exam-2017-to-2021\"\n",
    "download_path = \"temp_download\"\n",
    "target_path = \"data-download/data.csv\"\n",
    "os.makedirs(\"data\", exist_ok=True)\n",
    "kaggle.api.dataset_download_files(dataset_name, path=download_path, unzip=True)\n",
    "\n",
    "downloaded_files = os.listdir(download_path)\n",
    "\n",
    "for file_name in downloaded_files:\n",
    "    if file_name.endswith(\".csv\"):\n",
    "        shutil.move(os.path.join(download_path, file_name), target_path)\n",
    "        break\n",
    "shutil.rmtree(download_path)\n",
    "print(f\"Dataset downloaded and renamed to {target_path}\")\n"
   ]
  },
  {
   "cell_type": "code",
   "execution_count": null,
   "id": "e18c1eae-8544-4d33-b8c4-ccda0da0dc42",
   "metadata": {},
   "outputs": [],
   "source": [
    "#CURD"
   ]
  },
  {
   "cell_type": "code",
   "execution_count": null,
   "id": "30264516-b533-44ef-bb8a-76af9ca12bcb",
   "metadata": {},
   "outputs": [],
   "source": [
    "VIET ANH (LEADER)"
   ]
  },
  {
   "cell_type": "code",
   "execution_count": null,
   "id": "8d1f3e16-5ab0-483c-b9f8-c54a0092f77d",
   "metadata": {},
   "outputs": [],
   "source": [
    "#cleaning data"
   ]
  },
  {
   "cell_type": "code",
   "execution_count": null,
   "id": "eb629807-de51-4b26-8486-635bb2ff3260",
   "metadata": {},
   "outputs": [],
   "source": [
    "Quốc Anh"
   ]
  },
  {
   "cell_type": "code",
   "execution_count": null,
   "id": "9d12ed3b-bdd7-44c1-8496-9c8ba2ba3b59",
   "metadata": {},
   "outputs": [],
   "source": [
    "#Sum all block (Standardization)"
   ]
  },
  {
   "cell_type": "code",
   "execution_count": 20,
   "id": "f58acb20-b6be-4417-9fa2-6099aee8dd73",
   "metadata": {},
   "outputs": [],
   "source": [
    "Quốc Anh (SLIDE)"
   ]
  },
  {
   "cell_type": "code",
   "execution_count": null,
   "id": "02a58a91-5c90-49ef-8895-640447a5aea9",
   "metadata": {},
   "outputs": [],
   "source": [
    "#Data struct Block (Standardization)"
   ]
  },
  {
   "cell_type": "code",
   "execution_count": 9,
   "id": "c8f49d9e-3425-48c4-b197-ecc4c232c359",
   "metadata": {},
   "outputs": [],
   "source": [
    "ĐAN (BÁO)"
   ]
  },
  {
   "cell_type": "code",
   "execution_count": null,
   "id": "0f77a35a-4036-4abc-a159-7ea04159eb40",
   "metadata": {},
   "outputs": [],
   "source": [
    "#PASS OR FAIL (Standardization)"
   ]
  },
  {
   "cell_type": "code",
   "execution_count": 2,
   "id": "a4f4d534-644a-46d6-ad40-5de054a04d43",
   "metadata": {},
   "outputs": [],
   "source": [
    "QUÂN (BÁO)"
   ]
  },
  {
   "cell_type": "code",
   "execution_count": null,
   "id": "aedc59af-9d3e-4824-9a93-26007fd9db03",
   "metadata": {},
   "outputs": [],
   "source": [
    "#SƠ ĐỒ"
   ]
  },
  {
   "cell_type": "code",
   "execution_count": null,
   "id": "f1ebd0f4-ae78-4c8e-a47b-85666f4babf7",
   "metadata": {},
   "outputs": [],
   "source": [
    "SIU "
   ]
  },
  {
   "cell_type": "code",
   "execution_count": null,
   "id": "cd6e9028-aca5-49f9-8527-f14610c717dc",
   "metadata": {},
   "outputs": [],
   "source": [
    "#UI GRAPHIC"
   ]
  },
  {
   "cell_type": "code",
   "execution_count": null,
   "id": "5ae8d532-e048-4ec5-ac0d-09bb5dae98bc",
   "metadata": {},
   "outputs": [],
   "source": [
    "SIU"
   ]
  }
 ],
 "metadata": {
  "kernelspec": {
   "display_name": "Python 3 (ipykernel)",
   "language": "python",
   "name": "python3"
  },
  "language_info": {
   "codemirror_mode": {
    "name": "ipython",
    "version": 3
   },
   "file_extension": ".py",
   "mimetype": "text/x-python",
   "name": "python",
   "nbconvert_exporter": "python",
   "pygments_lexer": "ipython3",
   "version": "3.12.5"
  }
 },
 "nbformat": 4,
 "nbformat_minor": 5
}
