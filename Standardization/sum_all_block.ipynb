{
 "cells": [
  {
   "cell_type": "markdown",
   "metadata": {},
   "source": [
    "# SUM ALL BLOCK\n",
    "Đoạn code này tính tổng điểm của các khối thi khác nhau (A, B, C, D) cho từng thí sinh trong dữ liệu thi THPT quốc gia. Sau đó, nó xuất ra một file CSV chỉ chứa các thông tin quan trọng bao gồm SBD, tên tỉnh, và tổng điểm của các khối. \n",
    "\n"
   ]
  },
  {
   "cell_type": "code",
   "execution_count": null,
   "metadata": {},
   "outputs": [],
   "source": [
    "import pandas as pd\n",
    "\n",
    "# Load the data\n",
    "data_df = pd.read_csv('Data/Data.csv')\n",
    "tinh_df = pd.read_csv('Data/Tinh.csv')\n",
    "\n",
    "# Merge data based on 'MaTinh'\n",
    "merged_df = pd.merge(data_df, tinh_df, on='MaTinh', how='left')\n",
    "\n",
    "# Tính tổng điểm của các khối\n",
    "merged_df['Tong_Diem_Khoi_A'] = merged_df[['Toan', 'Ly', 'Hoa']].sum(axis=1, skipna=False)\n",
    "\n",
    "merged_df['Tong_Diem_Khoi_B'] = merged_df[['Toan', 'Sinh', 'Hoa']].sum(axis=1, skipna=False)\n",
    "merged_df['Tong_Diem_Khoi_C'] = merged_df[['Van', 'Lich su', 'Dia ly']].sum(axis=1, skipna=False)\n",
    "merged_df['Tong_Diem_Khoi_D'] = merged_df[['Toan', 'Van', 'Ngoai ngu']].sum(axis=1, skipna=False)\n",
    "\n",
    "# Lọc chỉ các cột cần thiết cho kết quả cuối cùng\n",
    "total_scores_df = round(merged_df[['SBD', 'Tong_Diem_Khoi_A', 'Tong_Diem_Khoi_B', 'Tong_Diem_Khoi_C', 'Tong_Diem_Khoi_D', 'TenTinh']], 2)\n",
    "\n",
    "# Xuất kết quả ra file CSV\n",
    "total_scores_df.to_csv('Total_Scores.csv', index=False)"
   ]
  }
 ],
 "metadata": {
  "kernelspec": {
   "display_name": "Python 3",
   "language": "python",
   "name": "python3"
  },
  "language_info": {
   "name": "python",
   "version": "3.12.7"
  }
 },
 "nbformat": 4,
 "nbformat_minor": 2
}
