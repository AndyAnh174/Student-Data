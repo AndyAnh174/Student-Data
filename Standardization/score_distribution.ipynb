{
 "cells": [
  {
   "cell_type": "markdown",
   "metadata": {},
   "source": [
    "# SCORE DISTRIBUTION\n"
   ]
  },
  {
   "cell_type": "code",
   "execution_count": 7,
   "metadata": {},
   "outputs": [
    {
     "name": "stdout",
     "output_type": "stream",
     "text": [
      "Đang tải dữ liệu từ cache cleaned_data_cache.csv...\n",
      "Đang tải dữ liệu từ cache tinh_cache.csv...\n",
      "Đã tải dữ liệu thành công từ API\n",
      "        2018    2019\n",
      "0-1     4673    2417\n",
      "1-2    58697   52028\n",
      "2-3   418059  359857\n",
      "3-4   789914  678593\n",
      "4-5   884148  828060\n",
      "5-6   896658  950974\n",
      "6-7   694468  880868\n",
      "7-8   405080  626975\n",
      "8-9   173213  305448\n",
      "9-10   32368   77544\n"
     ]
    }
   ],
   "source": [
    "import pandas as pd\n",
    "import numpy as np\n",
    "import matplotlib.pyplot as plt\n",
    "import requests\n",
    "from io import StringIO\n",
    "\n",
    "# API URLs\n",
    "cleaned_data_api = 'https://andyanh.id.vn/index.php/s/psPTAMbDrzzMnWk/download'\n",
    "\n",
    "def fetch_csv_from_api(api_url):\n",
    "    from datetime import datetime, timedelta\n",
    "    import os\n",
    "    \n",
    "    cache_file = 'cleaned_data_cache.csv'\n",
    "    cache_timeout = timedelta(hours=24)\n",
    "    \n",
    "    if os.path.exists(cache_file):\n",
    "        modified_time = datetime.fromtimestamp(os.path.getmtime(cache_file))\n",
    "        if datetime.now() - modified_time < cache_timeout:\n",
    "            print(f\"Đang tải dữ liệu từ cache {cache_file}...\")\n",
    "            return pd.read_csv(cache_file)\n",
    "    \n",
    "    print(f\"Đang tải dữ liệu từ API {api_url}...\")\n",
    "    response = requests.get(api_url)\n",
    "    if response.status_code == 200:\n",
    "        df = pd.read_csv(StringIO(response.text))\n",
    "        df.to_csv(cache_file, index=False)\n",
    "        return df\n",
    "    else:\n",
    "        raise Exception(f\"Failed to fetch data: {response.status_code}\")\n",
    "\n",
    "# Tải dữ liệu\n",
    "try:\n",
    "    data_df = fetch_csv_from_api(cleaned_data_api)\n",
    "    print(\"Đã tải dữ liệu thành công từ API\")\n",
    "except Exception as e:\n",
    "    print(f\"Lỗi khi tải dữ liệu từ API: {e}\")\n",
    "    print(\"Không thể tải dữ liệu. Vui lòng kiểm tra kết nối internet và thử lại.\")\n",
    "    exit()\n",
    "\n",
    "\n",
    "# Load dữ liệu từ file CSV\n",
    "data_cleaned = pd.read_csv('cleaned_data_cache.csv')\n",
    "\n",
    "# Hàm tính phân phối điểm\n",
    "def calculate_score_distribution(data):\n",
    "    score_columns = ['Toan', 'Van', 'Ly', 'Sinh', 'Ngoai ngu', 'Hoa', 'Lich su', 'Dia ly', 'GDCD']\n",
    "    all_scores = data[score_columns].values.flatten()\n",
    "    valid_scores = all_scores[(all_scores >= 0) & (all_scores <= 10)]\n",
    "\n",
    "    # Tính phân phối điểm\n",
    "    distribution = pd.cut(valid_scores, bins=[0, 1, 2, 3, 4, 5, 6, 7, 8, 9, 10],\n",
    "                           right=False, labels=[\"0-1\", \"1-2\", \"2-3\", \"3-4\", \"4-5\",\n",
    "                                                \"5-6\", \"6-7\", \"7-8\", \"8-9\", \"9-10\"]).value_counts()\n",
    "    return distribution\n",
    "\n",
    "# Lọc dữ liệu theo năm\n",
    "data_2018 = data_cleaned[data_cleaned['Year'] == 2018]\n",
    "data_2019 = data_cleaned[data_cleaned['Year'] == 2019]\n",
    "\n",
    "# Tính phân phối điểm cho từng năm\n",
    "distribution_2018 = calculate_score_distribution(data_2018)\n",
    "distribution_2019 = calculate_score_distribution(data_2019)\n",
    "\n",
    "# Tạo bảng so sánh\n",
    "score_distribution = pd.DataFrame({\n",
    "    '2018': distribution_2018,\n",
    "    '2019': distribution_2019\n",
    "}).fillna(0).astype(int)\n",
    "\n",
    "# Hiển thị kết quả\n",
    "print(score_distribution)\n"
   ]
  }
 ],
 "metadata": {
  "kernelspec": {
   "display_name": "Python 3",
   "language": "python",
   "name": "python3"
  },
  "language_info": {
   "codemirror_mode": {
    "name": "ipython",
    "version": 3
   },
   "file_extension": ".py",
   "mimetype": "text/x-python",
   "name": "python",
   "nbconvert_exporter": "python",
   "pygments_lexer": "ipython3",
   "version": "3.13.0"
  }
 },
 "nbformat": 4,
 "nbformat_minor": 2
}
