{
 "cells": [
  {
   "cell_type": "markdown",
   "metadata": {},
   "source": [
    "# SCORE DISTRIBUTION\n"
   ]
  },
  {
   "cell_type": "code",
   "execution_count": 1,
   "metadata": {},
   "outputs": [
    {
     "name": "stdout",
     "output_type": "stream",
     "text": [
      "Đang tải dữ liệu từ API https://andyanh.id.vn/index.php/s/psPTAMbDrzzMnWk/download...\n",
      "Đang tải dữ liệu từ cache tinh_cache.csv...\n",
      "Đã tải dữ liệu thành công từ API\n",
      "\n",
      "Đã xuất dữ liệu ra file: phan_phoi_diem.csv\n"
     ]
    }
   ],
   "source": [
    "import pandas as pd\n",
    "import numpy as np\n",
    "import matplotlib.pyplot as plt\n",
    "import requests\n",
    "from io import StringIO\n",
    "\n",
    "cleaned_data_api = 'https://andyanh.id.vn/index.php/s/psPTAMbDrzzMnWk/download'\n",
    "tinh_api = 'https://andyanh.id.vn/index.php/s/zbHTAjksBekNB4M/download'\n",
    "\n",
    "def fetch_csv_from_api(api_url):\n",
    "    from datetime import datetime, timedelta\n",
    "    import os\n",
    "    \n",
    "    cache_file = 'cleaned_data_cache.csv' if 'AQrka' in api_url else 'tinh_cache.csv'\n",
    "    cache_timeout = timedelta(hours=24)\n",
    "    \n",
    "    if os.path.exists(cache_file):\n",
    "        modified_time = datetime.fromtimestamp(os.path.getmtime(cache_file))\n",
    "        if datetime.now() - modified_time < cache_timeout:\n",
    "            print(f\"Đang tải dữ liệu từ cache {cache_file}...\")\n",
    "            return pd.read_csv(cache_file)\n",
    "    \n",
    "    print(f\"Đang tải dữ liệu từ API {api_url}...\")\n",
    "    response = requests.get(api_url)\n",
    "    if response.status_code == 200:\n",
    "        df = pd.read_csv(StringIO(response.text))\n",
    "        df.to_csv(cache_file, index=False)\n",
    "        return df\n",
    "    else:\n",
    "        raise Exception(f\"Failed to fetch data: {response.status_code}\")\n",
    "\n",
    "# Tải dữ liệu từ API\n",
    "try:\n",
    "    cleaned_data_df = fetch_csv_from_api(cleaned_data_api)\n",
    "    tinh_df = fetch_csv_from_api(tinh_api)\n",
    "    print(\"Đã tải dữ liệu thành công từ API\")\n",
    "except Exception as e:\n",
    "    print(f\"Lỗi khi tải dữ liệu từ API: {e}\")\n",
    "    print(\"Không thể tải dữ liệu. Vui lòng kiểm tra kết nối internet và thử lại.\")\n",
    "    exit()\n",
    "\n",
    "# Tạo bins cho điểm số từ 1-10\n",
    "bins = list(range(1, 12))\n",
    "labels = [f'{i}' for i in range(1, 11)]\n",
    "\n",
    "# Tính phân phối điểm cho từng năm và môn học\n",
    "def calculate_score_distribution(df, year, subject):\n",
    "    year_data = df[df['Year'] == year][subject]\n",
    "    # Lọc bỏ điểm -1 (điểm không hợp lệ)\n",
    "    year_data = year_data[year_data >= 0]\n",
    "    hist, _ = np.histogram(year_data, bins=bins)\n",
    "    return (hist / len(year_data)) * 100\n",
    "\n",
    "# Danh sách các môn học\n",
    "subjects = ['Toan', 'Van', 'Ly', 'Sinh', 'Ngoai ngu', 'Hoa', 'Lich su', 'Dia ly', 'GDCD']\n",
    "\n",
    "# Tạo DataFrame để lưu kết quả cho từng môn\n",
    "results_dict = {'Điểm': labels}\n",
    "\n",
    "for subject in subjects:\n",
    "    dist_2018 = calculate_score_distribution(cleaned_data_df, 2018, subject)\n",
    "    dist_2019 = calculate_score_distribution(cleaned_data_df, 2019, subject)\n",
    "    \n",
    "    results_dict[f'Tỉ lệ {subject} 2018 (%)'] = np.round(dist_2018, 2)\n",
    "    results_dict[f'Tỉ lệ {subject} 2019 (%)'] = np.round(dist_2019, 2)\n",
    "\n",
    "results = pd.DataFrame(results_dict)\n",
    "\n",
    "# Xuất ra file CSV\n",
    "output_file = 'phan_phoi_diem.csv'\n",
    "results.to_csv(output_file, index=False, encoding='utf-8-sig')\n",
    "\n",
    "print(f\"\\nĐã xuất dữ liệu ra file: {output_file}\")"
   ]
  }
 ],
 "metadata": {
  "kernelspec": {
   "display_name": "Python 3",
   "language": "python",
   "name": "python3"
  },
  "language_info": {
   "codemirror_mode": {
    "name": "ipython",
    "version": 3
   },
   "file_extension": ".py",
   "mimetype": "text/x-python",
   "name": "python",
   "nbconvert_exporter": "python",
   "pygments_lexer": "ipython3",
   "version": "3.13.0"
  }
 },
 "nbformat": 4,
 "nbformat_minor": 2
}
