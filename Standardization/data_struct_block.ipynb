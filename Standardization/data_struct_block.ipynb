{
 "cells": [
  {
   "cell_type": "markdown",
   "metadata": {},
   "source": [
    "# DATA STRUCT BLOCK\n",
    "Đoạn code trên thực hiện các thao tác phân tích dữ liệu điểm thi của các thí sinh theo từng khối và xác định khối thi tốt nhất cho từng thí sinh, dựa trên các môn thi của họ."
   ]
  },
  {
   "cell_type": "code",
   "execution_count": null,
   "metadata": {},
   "outputs": [],
   "source": [
    "import pandas as pd\n",
    "import requests\n",
    "from io import StringIO\n",
    "from datetime import datetime, timedelta\n",
    "import os\n",
    "\n",
    "cleaned_data_api = 'https://andyanh.id.vn/index.php/s/psPTAMbDrzzMnWk/download'\n",
    "\n",
    "def fetch_csv_from_api(api_url):\n",
    "    cache_file = 'cleaned_data_cache.csv'\n",
    "    cache_timeout = timedelta(hours=24)\n",
    "    \n",
    "    if os.path.exists(cache_file):\n",
    "        modified_time = datetime.fromtimestamp(os.path.getmtime(cache_file))\n",
    "        if datetime.now() - modified_time < cache_timeout:\n",
    "            print(f\"Đang tải dữ liệu từ cache {cache_file}...\")\n",
    "            return pd.read_csv(cache_file)\n",
    "    \n",
    "    print(f\"Đang tải dữ liệu từ API {api_url}...\")\n",
    "    response = requests.get(api_url)\n",
    "    if response.status_code == 200:\n",
    "        df = pd.read_csv(StringIO(response.text))\n",
    "        df.to_csv(cache_file, index=False)\n",
    "        return df\n",
    "    else:\n",
    "        raise Exception(f\"Failed to fetch data: {response.status_code}\")\n",
    "\n",
    "# Tải dữ liệu từ API\n",
    "try:\n",
    "    data_df = fetch_csv_from_api(cleaned_data_api)\n",
    "    print(\"Đã tải dữ liệu thành công từ API\")\n",
    "except Exception as e:\n",
    "    print(f\"Lỗi khi tải dữ liệu từ API: {e}\")\n",
    "    print(\"Không thể tải dữ liệu. Vui lòng kiểm tra kết nối internet và thử lại.\")\n",
    "    exit()\n",
    "\n",
    "# Define block calculations\n",
    "data_df['Khoi_A'] = data_df[['Toan', 'Ly', 'Hoa']].mean(axis=1)\n",
    "data_df['Khoi_B'] = data_df[['Toan', 'Sinh', 'Hoa']].mean(axis=1)\n",
    "data_df['Khoi_C'] = data_df[['Van', 'Lich su', 'Dia ly']].mean(axis=1)\n",
    "data_df['Khoi_D'] = data_df[['Toan', 'Van', 'Ngoai ngu']].mean(axis=1)\n",
    "\n",
    "# Check if any block has exactly two scores (indicating \"Thí Sinh Thi Lại\")\n",
    "data_df['Thi_Lai'] = (\n",
    "    (data_df[['Toan', 'Ly', 'Hoa']].notnull().sum(axis=1) == 2) |\n",
    "    (data_df[['Toan', 'Sinh', 'Hoa']].notnull().sum(axis=1) == 2) |\n",
    "    (data_df[['Van', 'Lich su', 'Dia ly']].notnull().sum(axis=1) == 2) |\n",
    "    (data_df[['Toan', 'Van', 'Ngoai ngu']].notnull().sum(axis=1) == 2)\n",
    ")\n",
    "\n",
    "# Determine the best block for students not marked as \"Thi Lai\"\n",
    "data_df['Best_Khoi'] = data_df[['Khoi_A', 'Khoi_B', 'Khoi_C', 'Khoi_D']].idxmax(axis=1)\n",
    "data_df['Best_Khoi'] = data_df.apply(lambda row: \"Thí Sinh Thi Lại\" if row['Thi_Lai'] else row['Best_Khoi'], axis=1)\n",
    "\n",
    "# Select relevant columns for output\n",
    "block_analysis_final_df = data_df[['SBD', 'Best_Khoi', 'TenTinh']]\n",
    "\n",
    "# Export the final result to CSV\n",
    "block_analysis_final_df.to_csv('Block_Analysis_Final.csv', index=False)\n"
   ]
  }
 ],
 "metadata": {
  "language_info": {
   "name": "python"
  }
 },
 "nbformat": 4,
 "nbformat_minor": 2
}
