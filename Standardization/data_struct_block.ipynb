{
 "cells": [
  {
   "cell_type": "markdown",
   "metadata": {},
   "source": [
    "# DATA STRUCT BLOCK\n",
    "Đoạn code trên thực hiện các thao tác phân tích dữ liệu điểm thi của các thí sinh theo từng khối và xác định khối thi tốt nhất cho từng thí sinh, dựa trên các môn thi của họ."
   ]
  },
  {
   "cell_type": "code",
   "execution_count": null,
   "metadata": {},
   "outputs": [],
   "source": [
    "import pandas as pd\n",
    "\n",
    "# Load the data\n",
    "data_df = pd.read_csv('Data/Cleaned_Data.csv')\n",
    "tinh_df = pd.read_csv('Data/Tinh.csv')\n",
    "\n",
    "# Merge data based on 'MaTinh'\n",
    "merged_df = pd.merge(data_df, tinh_df, on='MaTinh', how='left')\n",
    "\n",
    "# Define block calculations\n",
    "merged_df['Khoi_A'] = merged_df[['Toan', 'Ly', 'Hoa']].mean(axis=1)\n",
    "merged_df['Khoi_B'] = merged_df[['Toan', 'Sinh', 'Hoa']].mean(axis=1)\n",
    "merged_df['Khoi_C'] = merged_df[['Van', 'Lich su', 'Dia ly']].mean(axis=1)\n",
    "merged_df['Khoi_D'] = merged_df[['Toan', 'Van', 'Ngoai ngu']].mean(axis=1)\n",
    "\n",
    "# Check if any block has exactly two scores (indicating \"Thí Sinh Thi Lại\")\n",
    "merged_df['Thi_Lai'] = (\n",
    "    (merged_df[['Toan', 'Ly', 'Hoa']].notnull().sum(axis=1) == 2) |\n",
    "    (merged_df[['Toan', 'Sinh', 'Hoa']].notnull().sum(axis=1) == 2) |\n",
    "    (merged_df[['Van', 'Lich su', 'Dia ly']].notnull().sum(axis=1) == 2) |\n",
    "    (merged_df[['Toan', 'Van', 'Ngoai ngu']].notnull().sum(axis=1) == 2)\n",
    ")\n",
    "\n",
    "# Determine the best block for students not marked as \"Thi Lai\"\n",
    "merged_df['Best_Khoi'] = merged_df[['Khoi_A', 'Khoi_B', 'Khoi_C', 'Khoi_D']].idxmax(axis=1)\n",
    "merged_df['Best_Khoi'] = merged_df.apply(lambda row: \"Thí Sinh Thi Lại\" if row['Thi_Lai'] else row['Best_Khoi'], axis=1)\n",
    "\n",
    "# Select relevant columns for output\n",
    "block_analysis_final_df = merged_df[['SBD', 'Best_Khoi', 'TenTinh']]\n",
    "\n",
    "# Export the final result to CSV\n",
    "block_analysis_final_df.to_csv('output/Block_Analysis_Final.csv', index=False)\n"
   ]
  }
 ],
 "metadata": {
  "language_info": {
   "name": "python"
  }
 },
 "nbformat": 4,
 "nbformat_minor": 2
}
