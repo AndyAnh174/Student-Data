{
 "cells": [
  {
   "cell_type": "markdown",
   "metadata": {},
   "source": [
    "# Pass or fail\n",
    "\n",
    "Phân tích kết quả thi của học sinh, xác định trạng thái đậu/rớt, và xuất danh sách kết quả chi tiết vào một file CSV."
   ]
  },
  {
   "cell_type": "code",
   "execution_count": null,
   "metadata": {},
   "outputs": [],
   "source": [
    "import pandas as pd\n",
    "\n",
    "# Load data\n",
    "data_df = pd.read_csv('Data/Data.csv')\n",
    "tinh_df = pd.read_csv('Data/Tinh.csv')\n",
    "\n",
    "# Merge data based on 'MaTinh'\n",
    "merged_df = pd.merge(data_df, tinh_df, on='MaTinh', how='left')\n",
    "\n",
    "# Calculate the total score across all subjects for each student\n",
    "merged_df['Total_Score'] = merged_df[['Toan', 'Van', 'Ly', 'Sinh', 'Ngoai ngu', 'Hoa', 'Lich su', 'Dia ly', 'GDCD']].sum(axis=1, skipna=True)\n",
    "\n",
    "# Count the number of subjects each student has taken\n",
    "merged_df['Subjects_Taken'] = merged_df[['Toan', 'Van', 'Ly', 'Sinh', 'Ngoai ngu', 'Hoa', 'Lich su', 'Dia ly', 'GDCD']].notnull().sum(axis=1)\n",
    "\n",
    "# Label students with 3 or fewer subjects as \"Thí sinh thi lại\"\n",
    "merged_df['Ket_Qua'] = merged_df['Subjects_Taken'].apply(lambda x: \"Thí sinh thi lại\" if x <= 3 else None)\n",
    "\n",
    "# Determine pass/fail for students with more than 3 subjects\n",
    "# Assuming a passing score threshold (e.g., 15)\n",
    "passing_score = 15\n",
    "merged_df['Ket_Qua'] = merged_df.apply(\n",
    "    lambda row: \"Đậu\" if row['Total_Score'] >= passing_score and row['Ket_Qua'] is None else \n",
    "                (\"Rớt\" if row['Ket_Qua'] is None else row['Ket_Qua']),\n",
    "    axis=1\n",
    ")\n",
    "\n",
    "# Select relevant columns for the final output\n",
    "result_df = round(merged_df[['SBD', 'Total_Score', 'Subjects_Taken', 'Ket_Qua', 'TenTinh']], 2)\n",
    "\n",
    "# Export to CSV\n",
    "result_df.to_csv('Pass_Fail_List.csv', index=False)"
   ]
  }
 ],
 "metadata": {
  "kernelspec": {
   "display_name": "Python 3",
   "language": "python",
   "name": "python3"
  },
  "language_info": {
   "name": "python",
   "version": "3.12.7"
  }
 },
 "nbformat": 4,
 "nbformat_minor": 2
}
