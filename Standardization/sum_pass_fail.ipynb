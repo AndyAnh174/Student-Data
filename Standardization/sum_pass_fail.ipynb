{
 "cells": [
  {
   "cell_type": "markdown",
   "metadata": {},
   "source": [
    "# SUM RESULTS BY COUNTRY (2018-2019)\n",
    "\n",
    "-Phân tích và thống kê kết quả thi của thí sinh: Tính toán số môn đã thi và tổng điểm của từng thí sinh để xác định kết quả (\"Đậu\", \"Rớt\", \"Thi lại\").\n",
    "\n",
    "-Tổng hợp kết quả theo năm và tỉnh: Tổng hợp số lượng thí sinh đậu, rớt, và thi lại theo từng tỉnh cho hai năm 2018 và 2019. Mỗi tỉnh sẽ có thống kê chi tiết về số lượng thí sinh đạt mỗi loại kết quả trong từng năm.\n",
    "\n",
    "-Kết hợp với dữ liệu tỉnh: Ghép mã tỉnh với tên tỉnh để bảng kết quả dễ hiểu hơn.\n",
    "\n",
    "-Xuất kết quả ra file CSV: Lưu dữ liệu tổng kết vào file Summary_Result_By_Year.csv để tiện cho việc xem và sử dụng sau này. "
   ]
  },
  {
   "cell_type": "code",
   "execution_count": null,
   "metadata": {},
   "outputs": [],
   "source": [
    "import pandas as pd\n",
    "import numpy as np\n",
    "\n",
    "# Đọc dữ liệu từ Data.csv và Tinh.csv\n",
    "data_df = pd.read_csv('../Data/Cleaned_Data.csv')\n",
    "tinh_df = pd.read_csv('../Data/Tinh.csv')\n",
    "\n",
    "# Tính tổng số môn mỗi thí sinh đã thi và tổng điểm\n",
    "subjects = ['Toan', 'Van', 'Ly', 'Sinh', 'Ngoai ngu', 'Hoa', 'Lich su', 'Dia ly', 'GDCD']\n",
    "data_df['Total_Score'] = data_df[subjects].sum(axis=1)\n",
    "data_df['Subjects_Taken'] = data_df[subjects].notnull().sum(axis=1)\n",
    "\n",
    "# Xác định kết quả (Đậu/Rớt/Thi lại) cho mỗi thí sinh\n",
    "conditions = [\n",
    "    (data_df['Subjects_Taken'] <= 3),  # Thi lại nếu có <= 3 môn\n",
    "    (data_df['Total_Score'] >= 15)     # Đậu nếu tổng điểm >= 15\n",
    "]\n",
    "choices = [\"Thi lại\", \"Đậu\"]\n",
    "data_df['Result'] = np.select(conditions, choices, default=\"Rớt\")\n",
    "\n",
    "# Lọc dữ liệu theo năm và tính số lượng thí sinh đậu/rớt/thi lại theo tỉnh cho từng năm\n",
    "summary_2018 = data_df[data_df['Year'] == 2018].groupby(['MaTinh', 'Result']).size().unstack(fill_value=0).reset_index()\n",
    "summary_2018['Tổng thí sinh 2018'] = summary_2018[['Đậu', 'Rớt', 'Thi lại']].sum(axis=1)\n",
    "\n",
    "summary_2019 = data_df[data_df['Year'] == 2019].groupby(['MaTinh', 'Result']).size().unstack(fill_value=0).reset_index()\n",
    "summary_2019['Tổng thí sinh 2019'] = summary_2019[['Đậu', 'Rớt', 'Thi lại']].sum(axis=1)\n",
    "\n",
    "# Đổi tên cột để phân biệt các năm\n",
    "summary_2018 = summary_2018.rename(columns={\n",
    "    'Đậu': 'Số thí sinh đậu 2018',\n",
    "    'Rớt': 'Số thí sinh rớt 2018',\n",
    "    'Thi lại': 'Số thí sinh thi lại 2018'\n",
    "})\n",
    "\n",
    "summary_2019 = summary_2019.rename(columns={\n",
    "    'Đậu': 'Số thí sinh đậu 2019',\n",
    "    'Rớt': 'Số thí sinh rớt 2019',\n",
    "    'Thi lại': 'Số thí sinh thi lại 2019'\n",
    "})\n",
    "\n",
    "# Hợp nhất dữ liệu của hai năm 2018 và 2019\n",
    "summary_df = pd.merge(summary_2018, summary_2019, on='MaTinh', how='outer').fillna(0)\n",
    "\n",
    "# Thêm tên tỉnh vào bảng tổng kết\n",
    "summary_df = pd.merge(summary_df, tinh_df, on='MaTinh', how='left').rename(columns={'TenTinh': 'Tên Tỉnh'})\n",
    "\n",
    "# Xuất kết quả ra file CSV\n",
    "summary_file_path = '../output/Summary_Result_By_Year.csv'\n",
    "summary_df.to_csv(summary_file_path, index=False)\n",
    "\n",
    "# Hiển thị thông tin\n",
    "print(\"Kết quả đã được lưu vào:\", summary_file_path)\n"
   ]
  },
  {
   "cell_type": "markdown",
   "metadata": {},
   "source": [
    "# SUM RESULTS STUDENTS BY PROVINCE (2018-2019)"
   ]
  }
 ],
 "metadata": {
  "kernelspec": {
   "display_name": "Python 3",
   "language": "python",
   "name": "python3"
  },
  "language_info": {
   "codemirror_mode": {
    "name": "ipython",
    "version": 3
   },
   "file_extension": ".py",
   "mimetype": "text/x-python",
   "name": "python",
   "nbconvert_exporter": "python",
   "pygments_lexer": "ipython3",
   "version": "3.12.7"
  }
 },
 "nbformat": 4,
 "nbformat_minor": 2
}
