{
 "cells": [
  {
   "cell_type": "markdown",
   "metadata": {},
   "source": [
    "sơ đồ cột\n"
   ]
  },
  {
   "cell_type": "code",
   "execution_count": null,
   "metadata": {},
   "outputs": [],
   "source": [
    "import pandas as pd\n",
    "import matplotlib.pyplot as plt\n",
    "\n",
    "# Load your cleaned data\n",
    "cleaned_file_path = \"Cleaned_Data.csv\"\n",
    "df = pd.read_csv(cleaned_file_path)\n",
    "# Define score columns\n",
    "score_columns = [\n",
    "    \"Toan\",\n",
    "    \"Van\",\n",
    "    \"Ly\",\n",
    "    \"Sinh\",\n",
    "    \"Ngoai ngu\",\n",
    "    \"Hoa\",\n",
    "    \"Lich su\",\n",
    "    \"Dia ly\",\n",
    "    \"GDCD\",\n",
    "]\n",
    "# Filter data by years\n",
    "df_years = {2018: df[df[\"Year\"] == 2018], 2019: df[df[\"Year\"] == 2019]}\n",
    "mean_scores_2018 = df_years[2018][score_columns].replace(-1, float(\"nan\")).mean()\n",
    "mean_scores_2019 = df_years[2019][score_columns].replace(-1, float(\"nan\")).mean()\n",
    "mean_scores = pd.DataFrame({\"2018\": mean_scores_2018, \"2019\": mean_scores_2019})\n",
    "ax = plt.subplots(figsize=(10, 6))\n",
    "mean_scores.plot(kind=\"bar\", ax=ax)\n",
    "ax.set_title(\"So sánh điểm trung bình các môn giữa năm 2018 và 2019\")\n",
    "ax.set_xlabel(\"Môn học\")\n",
    "ax.set_ylabel(\"Điểm trung bình\")\n",
    "ax.legend(title=\"Năm\")"
   ]
  },
  {
   "cell_type": "markdown",
   "metadata": {},
   "source": []
  }
 ],
 "metadata": {
  "language_info": {
   "name": "python"
  }
 },
 "nbformat": 4,
 "nbformat_minor": 2
}
